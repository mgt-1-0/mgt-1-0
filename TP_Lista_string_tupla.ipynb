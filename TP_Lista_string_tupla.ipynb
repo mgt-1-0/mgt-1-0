{
  "nbformat": 4,
  "nbformat_minor": 0,
  "metadata": {
    "colab": {
      "provenance": [],
      "include_colab_link": true
    },
    "kernelspec": {
      "name": "python3",
      "display_name": "Python 3"
    },
    "language_info": {
      "name": "python"
    }
  },
  "cells": [
    {
      "cell_type": "markdown",
      "metadata": {
        "id": "view-in-github",
        "colab_type": "text"
      },
      "source": [
        "<a href=\"https://colab.research.google.com/github/mgt-1-0/mgt-1-0/blob/main/TP_Lista_string_tupla.ipynb\" target=\"_parent\"><img src=\"https://colab.research.google.com/assets/colab-badge.svg\" alt=\"Open In Colab\"/></a>"
      ]
    },
    {
      "cell_type": "code",
      "execution_count": 16,
      "metadata": {
        "id": "8VOD-zpMJovw"
      },
      "outputs": [],
      "source": [
        "# Lista de alumnos\n",
        "alumnos = [\n",
        "    \"Alurralde, Solange Stefania\",\n",
        "    \"Alvarado, Ludmila Del Milagro\",\n",
        "    \"Angel, Camila Juliana\",\n",
        "    \"Arenas, Lucas Gabriel\",\n",
        "    \"Caseres, Maria Antonia\",\n",
        "    \"Castillo, Paulina Milagros\",\n",
        "    \"Correa Segovia, Hugo Mariano\",\n",
        "    \"D Elia, Alvaro Tadeo\",\n",
        "    \"Flores, Victoria Agustina\",\n",
        "    \"Geronimo Soriano, Lizzie Amaya\",\n",
        "    \"GUZMAN, ANGÉLICA MORENA\",\n",
        "    \"Guzman, Jazmin Esmeralda Belen\",\n",
        "    \"Jaime, Anita Maria Belen\",\n",
        "    \"Lacour Polo, Nazarena\",\n",
        "    \"Lascano Guanca, Marcelo Fabricio\",\n",
        "    \"Lezcano, Celia Morena\",\n",
        "    \"Mamani Kynast, Nicolas Mauricio\",\n",
        "    \"Martinez, Tomas Andres\",\n",
        "    \"PORTELLA VALDIVIA, PEDRO FRANCISCO\",\n",
        "    \"Retamal Cisneros, Zacarias Josue\",\n",
        "    \"Rosales, Francisco Gabriel\",\n",
        "    \"Salem Barba, Mahia\",\n",
        "    \"Soto Camara, Agustin Ignacio\",\n",
        "    \"Villalba, Irina\",\n",
        "    \"Voltolini, Emanuel Tobias\",\n",
        "    \"Zalazar, Santino Stefano\",\n",
        "    \"ABUD LASPIUR, LOURDES MARIEL\",\n",
        "    \"Amador, Luana Micaela\",\n",
        "    \"Anaquin, Leonardo Ezequiel\",\n",
        "    \"Araoz Sanchez, Lautaro Nahuel\",\n",
        "    \"Argañaraz, Agostina Abril\",\n",
        "    \"Barrera, Matias Ezequiel\",\n",
        "    \"Barrozo Vedia, Joaquin Nicolas\",\n",
        "    \"Bettinelli, Valentino\",\n",
        "    \"Bracamonte Martinez, Salvador\",\n",
        "    \"Colque Rivero, Ariana Zoe Del Valle\",\n",
        "    \"Diaz, Dulce Maitena\",\n",
        "    \"FIGUEROA, SANTINO JOSUE\",\n",
        "    \"Flores Cardozo, Agustina Tiara\",\n",
        "    \"Gallo, Octavio Ismael\",\n",
        "    \"Galvan, Lourdes Yamila\",\n",
        "    \"Giangreco, Vitto Tomasso\",\n",
        "    \"Grancara, Martina Luna\",\n",
        "    \"Guanca, Sara Elizabeth\",\n",
        "    \"Lopez, Victoria Constanza\",\n",
        "    \"Mamani Garrido, Rosario Agostina\",\n",
        "    \"Marinaro, Martin Ezequiel\",\n",
        "    \"Merluzzi Dagum, Ignacio\",\n",
        "    \"Messina, Martina\",\n",
        "    \"RASUK, KARIM\", \"Rios, Lucia Magali\",\n",
        "    \"Sanchez Flores, Matías Agustín\",\n",
        "    \"Scarano, Renato Marcelo\",\n",
        "    \"Sierra, Lucas Mauricio\",\n",
        "    \"Tapia, Martin Gabriel\",\n",
        "    \"Vilte, Mia Antonella Alondra\",\n",
        "    \"Virgillito, Katya Milena\"\n",
        "]"
      ]
    },
    {
      "cell_type": "markdown",
      "source": [
        "## Dada la lista estudiantes:\n",
        "> - Hacer una celda para resolver cada punto.\n",
        "- El TP resuelto será revisado en tu repositorio, no es necesario que lo envíes, pero sí que lo pushees correctamente.\n",
        "- En la nota inicial se contempla:\n",
        "  - La creación del fork.\n",
        "  - El pusheo de los cambios realizados.\n",
        "  - La resolución de los ejercicios propuestos.\n"
      ],
      "metadata": {
        "id": "rd6Ug6v3J4uN"
      }
    },
    {
      "cell_type": "markdown",
      "source": [
        "1. Reemplaza todos los valores por los que obtengas del método title(). De esta manera tu lista quedara con los datos más homogéneos."
      ],
      "metadata": {
        "id": "wRLng-uURyJ3"
      }
    },
    {
      "cell_type": "code",
      "source": [
        "for i in range(len(alumnos)):\n",
        "  alumnos[i]=alumnos[i].title()"
      ],
      "metadata": {
        "id": "5lFqJoTaSIWi"
      },
      "execution_count": null,
      "outputs": []
    },
    {
      "cell_type": "code",
      "source": [
        "for alumno in alumnos:\n",
        "  print(alumno)"
      ],
      "metadata": {
        "id": "li5a8xlb8H_O",
        "outputId": "89279a76-52d7-4ed5-e456-869ec025fd00",
        "colab": {
          "base_uri": "https://localhost:8080/"
        }
      },
      "execution_count": null,
      "outputs": [
        {
          "output_type": "stream",
          "name": "stdout",
          "text": [
            "Alurralde, Solange Stefania\n",
            "Alvarado, Ludmila Del Milagro\n",
            "Angel, Camila Juliana\n",
            "Arenas, Lucas Gabriel\n",
            "Caseres, Maria Antonia\n",
            "Castillo, Paulina Milagros\n",
            "Correa Segovia, Hugo Mariano\n",
            "D Elia, Alvaro Tadeo\n",
            "Flores, Victoria Agustina\n",
            "Geronimo Soriano, Lizzie Amaya\n",
            "Guzman, Angélica Morena\n",
            "Guzman, Jazmin Esmeralda Belen\n",
            "Jaime, Anita Maria Belen\n",
            "Lacour Polo, Nazarena\n",
            "Lascano Guanca, Marcelo Fabricio\n",
            "Lezcano, Celia Morena\n",
            "Mamani Kynast, Nicolas Mauricio\n",
            "Martinez, Tomas Andres\n",
            "Portella Valdivia, Pedro Francisco\n",
            "Retamal Cisneros, Zacarias Josue\n",
            "Rosales, Francisco Gabriel\n",
            "Salem Barba, Mahia\n",
            "Soto Camara, Agustin Ignacio\n",
            "Villalba, Irina\n",
            "Voltolini, Emanuel Tobias\n",
            "Zalazar, Santino Stefano\n",
            "Abud Laspiur, Lourdes Mariel\n",
            "Amador, Luana Micaela\n",
            "Anaquin, Leonardo Ezequiel\n",
            "Araoz Sanchez, Lautaro Nahuel\n",
            "Argañaraz, Agostina Abril\n",
            "Barrera, Matias Ezequiel\n",
            "Barrozo Vedia, Joaquin Nicolas\n",
            "Bettinelli, Valentino\n",
            "Bracamonte Martinez, Salvador\n",
            "Colque Rivero, Ariana Zoe Del Valle\n",
            "Diaz, Dulce Maitena\n",
            "Figueroa, Santino Josue\n",
            "Flores Cardozo, Agustina Tiara\n",
            "Gallo, Octavio Ismael\n",
            "Galvan, Lourdes Yamila\n",
            "Giangreco, Vitto Tomasso\n",
            "Grancara, Martina Luna\n",
            "Guanca, Sara Elizabeth\n",
            "Lopez, Victoria Constanza\n",
            "Mamani Garrido, Rosario Agostina\n",
            "Marinaro, Martin Ezequiel\n",
            "Merluzzi Dagum, Ignacio\n",
            "Messina, Martina\n",
            "Rasuk, Karim\n",
            "Rios, Lucia Magali\n",
            "Sanchez Flores, Matías Agustín\n",
            "Scarano, Renato Marcelo\n",
            "Sierra, Lucas Mauricio\n",
            "Tapia, Martin Gabriel\n",
            "Vilte, Mia Antonella Alondra\n",
            "Virgillito, Katya Milena\n"
          ]
        }
      ]
    },
    {
      "cell_type": "markdown",
      "source": [
        "2. Desarrolla un script que permita ingresar un nombre y muestre cuantas veces aparece este en la lista\n"
      ],
      "metadata": {
        "id": "dYEGkYZyLy9I"
      }
    },
    {
      "cell_type": "code",
      "source": [
        "nombre= input(\"ingresé un nombre: \").title()\n",
        "nombres=[]\n",
        "for alumno in alumnos:\n",
        "  lista_nombres=alumno.replace(\",\",\"\").split()\n",
        "  nombres.extend(lista_nombres)\n",
        "print(f\"{nombre} está {nombres.count(nombre)} veces en la lista de nombres\")"
      ],
      "metadata": {
        "id": "-B9fB0sSL_Dk",
        "outputId": "faff3b53-266d-4f4a-9d21-1cd0190a47f3",
        "colab": {
          "base_uri": "https://localhost:8080/"
        }
      },
      "execution_count": null,
      "outputs": [
        {
          "output_type": "stream",
          "name": "stdout",
          "text": [
            "ingresé un nombre: Lucia\n",
            "Lucia está 1 veces en la lista de nombres\n"
          ]
        }
      ]
    },
    {
      "cell_type": "markdown",
      "source": [
        "3. Desarrolla un script en python que permita ingresar un nombre y mostrar en que posición de la lista se encuentra el mismo. Realiza las combinaciones necesarias para que no se genere un error si es que el nombre no existe."
      ],
      "metadata": {
        "id": "UW2dlBsGMAte"
      }
    },
    {
      "cell_type": "code",
      "source": [
        "nombre= input(\"ingresé un nombre completo: \")\n",
        "if nombre in alumnos:\n",
        "   print(f\"{nombre} está en la posición {alumnos.index(nombre)}\")\n",
        "else:\n",
        "   print(f\"{nombre} no se encuentra en la lista.\")"
      ],
      "metadata": {
        "id": "EawAy4SANtkl",
        "outputId": "a7dd68e3-1b67-4f27-de56-ba07f5c28887",
        "colab": {
          "base_uri": "https://localhost:8080/"
        }
      },
      "execution_count": 10,
      "outputs": [
        {
          "output_type": "stream",
          "name": "stdout",
          "text": [
            "ingresé un nombre completo: Tapia, Martin Gabriel \n",
            "Tapia, Martin Gabriel  no se encuentra en la lista.\n"
          ]
        }
      ]
    },
    {
      "cell_type": "markdown",
      "source": [
        "4. Agrega un nombre al final de la lista, otro al principio y otro en la posición anterior a la de tu nombre en la lista. Tene en cuenta el formato usado para ingresar los datos: \"apellidos, nombres\""
      ],
      "metadata": {
        "id": "kZeEHUYVNwGV"
      }
    },
    {
      "cell_type": "code",
      "source": [
        "nombre_final=input(\"ingresé un nombre para agregar al final de la lista: \").title()\n",
        "alumnos.append(nombre_final)\n",
        "\n",
        "nombre_inicio=input(\"ingresé un nombre para agregar al principio de la lista: \").title()\n",
        "alumnos.insert(0,nombre_inicio)\n",
        "\n",
        "nombre_antes=input(\"ingresé un nombre para agregar antes del tuyo en la lista: \").title()\n",
        "alumnos.insert(55,nombre_antes)\n",
        "\n",
        "for alumno in alumnos:\n",
        "  print(alumno)"
      ],
      "metadata": {
        "id": "q05GnxXgORzt",
        "colab": {
          "base_uri": "https://localhost:8080/"
        },
        "outputId": "2260290d-3f89-4e18-ae4e-d399fba2f15f"
      },
      "execution_count": null,
      "outputs": [
        {
          "output_type": "stream",
          "name": "stdout",
          "text": [
            "ingresé un nombre para agregar al final de la lista: Zalazar, Matias \n",
            "ingresé un nombre para agregar al principio de la lista: Argento, Paola \n",
            "ingresé un nombre para agregar antes del tuyo en la lista: Urbano, Fernández \n",
            "Argento, Paola \n",
            "Alurralde, Solange Stefania\n",
            "Alvarado, Ludmila Del Milagro\n",
            "Angel, Camila Juliana\n",
            "Arenas, Lucas Gabriel\n",
            "Caseres, Maria Antonia\n",
            "Castillo, Paulina Milagros\n",
            "Correa Segovia, Hugo Mariano\n",
            "D Elia, Alvaro Tadeo\n",
            "Flores, Victoria Agustina\n",
            "Geronimo Soriano, Lizzie Amaya\n",
            "GUZMAN, ANGÉLICA MORENA\n",
            "Guzman, Jazmin Esmeralda Belen\n",
            "Jaime, Anita Maria Belen\n",
            "Lacour Polo, Nazarena\n",
            "Lascano Guanca, Marcelo Fabricio\n",
            "Lezcano, Celia Morena\n",
            "Mamani Kynast, Nicolas Mauricio\n",
            "Martinez, Tomas Andres\n",
            "PORTELLA VALDIVIA, PEDRO FRANCISCO\n",
            "Retamal Cisneros, Zacarias Josue\n",
            "Rosales, Francisco Gabriel\n",
            "Salem Barba, Mahia\n",
            "Soto Camara, Agustin Ignacio\n",
            "Villalba, Irina\n",
            "Voltolini, Emanuel Tobias\n",
            "Zalazar, Santino Stefano\n",
            "ABUD LASPIUR, LOURDES MARIEL\n",
            "Amador, Luana Micaela\n",
            "Anaquin, Leonardo Ezequiel\n",
            "Araoz Sanchez, Lautaro Nahuel\n",
            "Argañaraz, Agostina Abril\n",
            "Barrera, Matias Ezequiel\n",
            "Barrozo Vedia, Joaquin Nicolas\n",
            "Bettinelli, Valentino\n",
            "Bracamonte Martinez, Salvador\n",
            "Colque Rivero, Ariana Zoe Del Valle\n",
            "Diaz, Dulce Maitena\n",
            "FIGUEROA, SANTINO JOSUE\n",
            "Flores Cardozo, Agustina Tiara\n",
            "Gallo, Octavio Ismael\n",
            "Galvan, Lourdes Yamila\n",
            "Giangreco, Vitto Tomasso\n",
            "Grancara, Martina Luna\n",
            "Guanca, Sara Elizabeth\n",
            "Lopez, Victoria Constanza\n",
            "Mamani Garrido, Rosario Agostina\n",
            "Marinaro, Martin Ezequiel\n",
            "Merluzzi Dagum, Ignacio\n",
            "Messina, Martina\n",
            "RASUK, KARIM\n",
            "Rios, Lucia Magali\n",
            "Sanchez Flores, Matías Agustín\n",
            "Scarano, Renato Marcelo\n",
            "Urbano, Fernández \n",
            "Sierra, Lucas Mauricio\n",
            "Tapia, Martin Gabriel\n",
            "Vilte, Mia Antonella Alondra\n",
            "Virgillito, Katya Milena\n",
            "Argento, Paola \n",
            "Zalazar, Matias \n"
          ]
        }
      ]
    },
    {
      "cell_type": "markdown",
      "source": [
        "5. Mostrá cada elemento de la lista mientras la vacias usando el metodo pop(). Para lograr esto usá la estructura while.\n",
        "\n",
        "Tene en cuenta que:\n",
        "\n",
        "\n",
        ">```python\n",
        "bool([]) = False\n",
        "```\n",
        "\n"
      ],
      "metadata": {
        "id": "b_we1Oz4OUBN"
      }
    },
    {
      "cell_type": "code",
      "source": [
        "while alumnos:\n",
        "      alumno=alumnos.pop()\n",
        "      print(alumno)"
      ],
      "metadata": {
        "id": "bjn9DhewPhWF",
        "colab": {
          "base_uri": "https://localhost:8080/"
        },
        "outputId": "4c673fc9-745a-4c8d-f947-52cb06270873"
      },
      "execution_count": 11,
      "outputs": [
        {
          "output_type": "stream",
          "name": "stdout",
          "text": [
            "Virgillito, Katya Milena\n",
            "Vilte, Mia Antonella Alondra\n",
            "Tapia, Martin Gabriel\n",
            "Sierra, Lucas Mauricio\n",
            "Scarano, Renato Marcelo\n",
            "Sanchez Flores, Matías Agustín\n",
            "Rios, Lucia Magali\n",
            "RASUK, KARIM\n",
            "Messina, Martina\n",
            "Merluzzi Dagum, Ignacio\n",
            "Marinaro, Martin Ezequiel\n",
            "Mamani Garrido, Rosario Agostina\n",
            "Lopez, Victoria Constanza\n",
            "Guanca, Sara Elizabeth\n",
            "Grancara, Martina Luna\n",
            "Giangreco, Vitto Tomasso\n",
            "Galvan, Lourdes Yamila\n",
            "Gallo, Octavio Ismael\n",
            "Flores Cardozo, Agustina Tiara\n",
            "FIGUEROA, SANTINO JOSUE\n",
            "Diaz, Dulce Maitena\n",
            "Colque Rivero, Ariana Zoe Del Valle\n",
            "Bracamonte Martinez, Salvador\n",
            "Bettinelli, Valentino\n",
            "Barrozo Vedia, Joaquin Nicolas\n",
            "Barrera, Matias Ezequiel\n",
            "Argañaraz, Agostina Abril\n",
            "Araoz Sanchez, Lautaro Nahuel\n",
            "Anaquin, Leonardo Ezequiel\n",
            "Amador, Luana Micaela\n",
            "ABUD LASPIUR, LOURDES MARIEL\n",
            "Zalazar, Santino Stefano\n",
            "Voltolini, Emanuel Tobias\n",
            "Villalba, Irina\n",
            "Soto Camara, Agustin Ignacio\n",
            "Salem Barba, Mahia\n",
            "Rosales, Francisco Gabriel\n",
            "Retamal Cisneros, Zacarias Josue\n",
            "PORTELLA VALDIVIA, PEDRO FRANCISCO\n",
            "Martinez, Tomas Andres\n",
            "Mamani Kynast, Nicolas Mauricio\n",
            "Lezcano, Celia Morena\n",
            "Lascano Guanca, Marcelo Fabricio\n",
            "Lacour Polo, Nazarena\n",
            "Jaime, Anita Maria Belen\n",
            "Guzman, Jazmin Esmeralda Belen\n",
            "GUZMAN, ANGÉLICA MORENA\n",
            "Geronimo Soriano, Lizzie Amaya\n",
            "Flores, Victoria Agustina\n",
            "D Elia, Alvaro Tadeo\n",
            "Correa Segovia, Hugo Mariano\n",
            "Castillo, Paulina Milagros\n",
            "Caseres, Maria Antonia\n",
            "Arenas, Lucas Gabriel\n",
            "Angel, Camila Juliana\n",
            "Alvarado, Ludmila Del Milagro\n",
            "Alurralde, Solange Stefania\n"
          ]
        }
      ]
    },
    {
      "cell_type": "markdown",
      "source": [
        "6. Crea un menú para ordenar la lista de manera ascendente o descendente. Realiza esta acción y muestra el resultado según la opción elegida por el usuario."
      ],
      "metadata": {
        "id": "xY4BuqGdQBF1"
      }
    },
    {
      "cell_type": "code",
      "source": [
        "print(\"\"\"ORDENAR LISTA\n",
        "[A] Ascendente (A-Z)\n",
        "[D] Descendente (Z-A) \"\"\")\n",
        "opcion_usuario = input(\"Ingrese una opción: \").upper()\n",
        "alumnos.sort()\n",
        "if opcion_usuario == \"D\":\n",
        "    alumnos.reverse()\n",
        "for alumno in alumnos:\n",
        "    print(alumno)"
      ],
      "metadata": {
        "id": "NKR3ciBKSjhr",
        "colab": {
          "base_uri": "https://localhost:8080/"
        },
        "outputId": "49df4f86-6493-4777-9ddd-ed8ee1655884"
      },
      "execution_count": 18,
      "outputs": [
        {
          "output_type": "stream",
          "name": "stdout",
          "text": [
            "ORDENAR LISTA\n",
            "[A] Ascendente (A-Z)\n",
            "[D] Descendente (Z-A) \n",
            "Ingrese una opción: A\n",
            "ABUD LASPIUR, LOURDES MARIEL\n",
            "Alurralde, Solange Stefania\n",
            "Alvarado, Ludmila Del Milagro\n",
            "Amador, Luana Micaela\n",
            "Anaquin, Leonardo Ezequiel\n",
            "Angel, Camila Juliana\n",
            "Araoz Sanchez, Lautaro Nahuel\n",
            "Arenas, Lucas Gabriel\n",
            "Argañaraz, Agostina Abril\n",
            "Barrera, Matias Ezequiel\n",
            "Barrozo Vedia, Joaquin Nicolas\n",
            "Bettinelli, Valentino\n",
            "Bracamonte Martinez, Salvador\n",
            "Caseres, Maria Antonia\n",
            "Castillo, Paulina Milagros\n",
            "Colque Rivero, Ariana Zoe Del Valle\n",
            "Correa Segovia, Hugo Mariano\n",
            "D Elia, Alvaro Tadeo\n",
            "Diaz, Dulce Maitena\n",
            "FIGUEROA, SANTINO JOSUE\n",
            "Flores Cardozo, Agustina Tiara\n",
            "Flores, Victoria Agustina\n",
            "GUZMAN, ANGÉLICA MORENA\n",
            "Gallo, Octavio Ismael\n",
            "Galvan, Lourdes Yamila\n",
            "Geronimo Soriano, Lizzie Amaya\n",
            "Giangreco, Vitto Tomasso\n",
            "Grancara, Martina Luna\n",
            "Guanca, Sara Elizabeth\n",
            "Guzman, Jazmin Esmeralda Belen\n",
            "Jaime, Anita Maria Belen\n",
            "Lacour Polo, Nazarena\n",
            "Lascano Guanca, Marcelo Fabricio\n",
            "Lezcano, Celia Morena\n",
            "Lopez, Victoria Constanza\n",
            "Mamani Garrido, Rosario Agostina\n",
            "Mamani Kynast, Nicolas Mauricio\n",
            "Marinaro, Martin Ezequiel\n",
            "Martinez, Tomas Andres\n",
            "Merluzzi Dagum, Ignacio\n",
            "Messina, Martina\n",
            "PORTELLA VALDIVIA, PEDRO FRANCISCO\n",
            "RASUK, KARIM\n",
            "Retamal Cisneros, Zacarias Josue\n",
            "Rios, Lucia Magali\n",
            "Rosales, Francisco Gabriel\n",
            "Salem Barba, Mahia\n",
            "Sanchez Flores, Matías Agustín\n",
            "Scarano, Renato Marcelo\n",
            "Sierra, Lucas Mauricio\n",
            "Soto Camara, Agustin Ignacio\n",
            "Tapia, Martin Gabriel\n",
            "Villalba, Irina\n",
            "Vilte, Mia Antonella Alondra\n",
            "Virgillito, Katya Milena\n",
            "Voltolini, Emanuel Tobias\n",
            "Zalazar, Santino Stefano\n"
          ]
        }
      ]
    },
    {
      "cell_type": "markdown",
      "source": [
        "7. - Crea, a partir de la lista estudiantes, una nueva lista tupla_estudiantes que contenga los nombres en formato de tuplas, donde el primer elemento sea el apellido y el segundo el nombre.\n",
        "  - Muestra cada tupla de la nueva lista.\n"
      ],
      "metadata": {
        "id": "7wb4sRbOSkdM"
      }
    },
    {
      "cell_type": "code",
      "source": [
        "tupla_estudiantes = []\n",
        "for alumno in alumnos:\n",
        "    apellido,nombre= alumno.split(\",\")\n",
        "    tupla_estudiantes.append((apellido,nombre))\n",
        "for estudiante in tupla_estudiantes:\n",
        "    print(estudiante)"
      ],
      "metadata": {
        "id": "f9v0mfoZS9_s",
        "colab": {
          "base_uri": "https://localhost:8080/"
        },
        "outputId": "849a43db-203c-46ca-98e6-4913444d0986"
      },
      "execution_count": 19,
      "outputs": [
        {
          "output_type": "stream",
          "name": "stdout",
          "text": [
            "('ABUD LASPIUR', ' LOURDES MARIEL')\n",
            "('Alurralde', ' Solange Stefania')\n",
            "('Alvarado', ' Ludmila Del Milagro')\n",
            "('Amador', ' Luana Micaela')\n",
            "('Anaquin', ' Leonardo Ezequiel')\n",
            "('Angel', ' Camila Juliana')\n",
            "('Araoz Sanchez', ' Lautaro Nahuel')\n",
            "('Arenas', ' Lucas Gabriel')\n",
            "('Argañaraz', ' Agostina Abril')\n",
            "('Barrera', ' Matias Ezequiel')\n",
            "('Barrozo Vedia', ' Joaquin Nicolas')\n",
            "('Bettinelli', ' Valentino')\n",
            "('Bracamonte Martinez', ' Salvador')\n",
            "('Caseres', ' Maria Antonia')\n",
            "('Castillo', ' Paulina Milagros')\n",
            "('Colque Rivero', ' Ariana Zoe Del Valle')\n",
            "('Correa Segovia', ' Hugo Mariano')\n",
            "('D Elia', ' Alvaro Tadeo')\n",
            "('Diaz', ' Dulce Maitena')\n",
            "('FIGUEROA', ' SANTINO JOSUE')\n",
            "('Flores Cardozo', ' Agustina Tiara')\n",
            "('Flores', ' Victoria Agustina')\n",
            "('GUZMAN', ' ANGÉLICA MORENA')\n",
            "('Gallo', ' Octavio Ismael')\n",
            "('Galvan', ' Lourdes Yamila')\n",
            "('Geronimo Soriano', ' Lizzie Amaya')\n",
            "('Giangreco', ' Vitto Tomasso')\n",
            "('Grancara', ' Martina Luna')\n",
            "('Guanca', ' Sara Elizabeth')\n",
            "('Guzman', ' Jazmin Esmeralda Belen')\n",
            "('Jaime', ' Anita Maria Belen')\n",
            "('Lacour Polo', ' Nazarena')\n",
            "('Lascano Guanca', ' Marcelo Fabricio')\n",
            "('Lezcano', ' Celia Morena')\n",
            "('Lopez', ' Victoria Constanza')\n",
            "('Mamani Garrido', ' Rosario Agostina')\n",
            "('Mamani Kynast', ' Nicolas Mauricio')\n",
            "('Marinaro', ' Martin Ezequiel')\n",
            "('Martinez', ' Tomas Andres')\n",
            "('Merluzzi Dagum', ' Ignacio')\n",
            "('Messina', ' Martina')\n",
            "('PORTELLA VALDIVIA', ' PEDRO FRANCISCO')\n",
            "('RASUK', ' KARIM')\n",
            "('Retamal Cisneros', ' Zacarias Josue')\n",
            "('Rios', ' Lucia Magali')\n",
            "('Rosales', ' Francisco Gabriel')\n",
            "('Salem Barba', ' Mahia')\n",
            "('Sanchez Flores', ' Matías Agustín')\n",
            "('Scarano', ' Renato Marcelo')\n",
            "('Sierra', ' Lucas Mauricio')\n",
            "('Soto Camara', ' Agustin Ignacio')\n",
            "('Tapia', ' Martin Gabriel')\n",
            "('Villalba', ' Irina')\n",
            "('Vilte', ' Mia Antonella Alondra')\n",
            "('Virgillito', ' Katya Milena')\n",
            "('Voltolini', ' Emanuel Tobias')\n",
            "('Zalazar', ' Santino Stefano')\n"
          ]
        }
      ]
    },
    {
      "cell_type": "markdown",
      "source": [
        "8. Crea un menú como el del ejercicio 6, pero ahora permite elegir si ordenar alfabéticamente por nombre o por apellido.\n",
        "> Para resolver este ejercicio, solicitar ayuda en clase o en el foro\n"
      ],
      "metadata": {
        "id": "PziNZOOBS_UQ"
      }
    },
    {
      "cell_type": "code",
      "source": [],
      "metadata": {
        "id": "v72o7Pix76H9"
      },
      "execution_count": null,
      "outputs": []
    },
    {
      "cell_type": "code",
      "source": [
        "print(\"\"\"ORDENAR LISTA\n",
        "[AA] Ascendente por Apellido\n",
        "[DA] Descendente por Apellido\n",
        "[AN] Ascendente por Nombre\n",
        "[DN] Descendente por Nombre \"\"\")\n",
        "opcion_usuario = input(\"Ingrese una opción: \").upper()\n",
        "if opcion_usuario == \"AA\":\n",
        "    tupla_estudiantes.sort()\n",
        "elif opcion_usuario == \"DA\":\n",
        "    tupla_estudiantes.reverse()\n",
        "elif opcion_usuario == \"AN\":\n",
        "    tupla_estudiantes.sort(key=segundo_elemento)\n",
        "elif opcion_usuario == \"DN\":\n",
        "    tupla_estudiantes.sort(key=segundo_elemento,reverse=True)\n",
        "for estudiante in tupla_estudiantes:\n",
        "    print(estudiante)"
      ],
      "metadata": {
        "id": "X7Xu-KyaTWth",
        "colab": {
          "base_uri": "https://localhost:8080/"
        },
        "outputId": "909d709c-e78d-45d4-da75-3d3fb17a1435"
      },
      "execution_count": 20,
      "outputs": [
        {
          "output_type": "stream",
          "name": "stdout",
          "text": [
            "ORDENAR LISTA\n",
            "[AA] Ascendente por Apellido\n",
            "[DA] Descendente por Apellido\n",
            "[AN] Ascendente por Nombre\n",
            "[DN] Descendente por Nombre \n",
            "Ingrese una opción: Aa\n",
            "('ABUD LASPIUR', ' LOURDES MARIEL')\n",
            "('Alurralde', ' Solange Stefania')\n",
            "('Alvarado', ' Ludmila Del Milagro')\n",
            "('Amador', ' Luana Micaela')\n",
            "('Anaquin', ' Leonardo Ezequiel')\n",
            "('Angel', ' Camila Juliana')\n",
            "('Araoz Sanchez', ' Lautaro Nahuel')\n",
            "('Arenas', ' Lucas Gabriel')\n",
            "('Argañaraz', ' Agostina Abril')\n",
            "('Barrera', ' Matias Ezequiel')\n",
            "('Barrozo Vedia', ' Joaquin Nicolas')\n",
            "('Bettinelli', ' Valentino')\n",
            "('Bracamonte Martinez', ' Salvador')\n",
            "('Caseres', ' Maria Antonia')\n",
            "('Castillo', ' Paulina Milagros')\n",
            "('Colque Rivero', ' Ariana Zoe Del Valle')\n",
            "('Correa Segovia', ' Hugo Mariano')\n",
            "('D Elia', ' Alvaro Tadeo')\n",
            "('Diaz', ' Dulce Maitena')\n",
            "('FIGUEROA', ' SANTINO JOSUE')\n",
            "('Flores', ' Victoria Agustina')\n",
            "('Flores Cardozo', ' Agustina Tiara')\n",
            "('GUZMAN', ' ANGÉLICA MORENA')\n",
            "('Gallo', ' Octavio Ismael')\n",
            "('Galvan', ' Lourdes Yamila')\n",
            "('Geronimo Soriano', ' Lizzie Amaya')\n",
            "('Giangreco', ' Vitto Tomasso')\n",
            "('Grancara', ' Martina Luna')\n",
            "('Guanca', ' Sara Elizabeth')\n",
            "('Guzman', ' Jazmin Esmeralda Belen')\n",
            "('Jaime', ' Anita Maria Belen')\n",
            "('Lacour Polo', ' Nazarena')\n",
            "('Lascano Guanca', ' Marcelo Fabricio')\n",
            "('Lezcano', ' Celia Morena')\n",
            "('Lopez', ' Victoria Constanza')\n",
            "('Mamani Garrido', ' Rosario Agostina')\n",
            "('Mamani Kynast', ' Nicolas Mauricio')\n",
            "('Marinaro', ' Martin Ezequiel')\n",
            "('Martinez', ' Tomas Andres')\n",
            "('Merluzzi Dagum', ' Ignacio')\n",
            "('Messina', ' Martina')\n",
            "('PORTELLA VALDIVIA', ' PEDRO FRANCISCO')\n",
            "('RASUK', ' KARIM')\n",
            "('Retamal Cisneros', ' Zacarias Josue')\n",
            "('Rios', ' Lucia Magali')\n",
            "('Rosales', ' Francisco Gabriel')\n",
            "('Salem Barba', ' Mahia')\n",
            "('Sanchez Flores', ' Matías Agustín')\n",
            "('Scarano', ' Renato Marcelo')\n",
            "('Sierra', ' Lucas Mauricio')\n",
            "('Soto Camara', ' Agustin Ignacio')\n",
            "('Tapia', ' Martin Gabriel')\n",
            "('Villalba', ' Irina')\n",
            "('Vilte', ' Mia Antonella Alondra')\n",
            "('Virgillito', ' Katya Milena')\n",
            "('Voltolini', ' Emanuel Tobias')\n",
            "('Zalazar', ' Santino Stefano')\n"
          ]
        }
      ]
    },
    {
      "cell_type": "markdown",
      "source": [
        "9. Agrega un dato en la posición siguiente a la de tu nombre en el nuevo formato de tupla. Para esto solicita al usuario su nombre y apellido, almacena estos datos en una tupla y agrega la misma a la lista \"tupla_estudiantes\""
      ],
      "metadata": {
        "id": "mtnmvoZ9TXii"
      }
    },
    {
      "cell_type": "code",
      "source": [
        "nombre_usuario_1 = input(\"Por favor, ingrese su nombre completo (apellido, nombre): \").title()\n",
        "apellido_1, nombre_1 = (nombre_usuario_1.split(','))\n",
        "posicion = -1\n",
        "for i in range(len(tupla_estudiantes)):\n",
        "    if apellido_1 == tupla_estudiantes[i][0] and nombre_1 == tupla_estudiantes[i][1]:\n",
        "        posicion = i\n",
        "        break\n",
        "if posicion == -1:\n",
        "    print(\"El nombre ingresado no se encontró en la lista.\")\n",
        "else:\n",
        "    nombre = input(\"Por favor, ingrese un NOMBRE para insertar luego del suyo: \").title()\n",
        "    apellido = input(\"Por favor, ahora ingrese el APELLIDO del nombre a ingresar: \").title()\n",
        "    nueva_tupla = (apellido, nombre)\n",
        "    tupla_estudiantes.insert(posicion + 1, nueva_tupla)\n",
        "    for estudiante in tupla_estudiantes:\n",
        "        print(estudiante)"
      ],
      "metadata": {
        "id": "RSXz_XcvT0Nc",
        "colab": {
          "base_uri": "https://localhost:8080/"
        },
        "outputId": "e61f05ba-93df-4d8a-9b5a-ba64fd3d8dea"
      },
      "execution_count": 23,
      "outputs": [
        {
          "output_type": "stream",
          "name": "stdout",
          "text": [
            "Por favor, ingrese su nombre completo (apellido, nombre): Tapia, Martin Gabriel\n",
            "Por favor, ingrese un NOMBRE para insertar luego del suyo: Soto Cámara, Agustín Ignacio\n",
            "Por favor, ahora ingrese el APELLIDO del nombre a ingresar: Soto\n",
            "('ABUD LASPIUR', ' LOURDES MARIEL')\n",
            "('Alurralde', ' Solange Stefania')\n",
            "('Alvarado', ' Ludmila Del Milagro')\n",
            "('Amador', ' Luana Micaela')\n",
            "('Anaquin', ' Leonardo Ezequiel')\n",
            "('Angel', ' Camila Juliana')\n",
            "('Araoz Sanchez', ' Lautaro Nahuel')\n",
            "('Arenas', ' Lucas Gabriel')\n",
            "('Argañaraz', ' Agostina Abril')\n",
            "('Barrera', ' Matias Ezequiel')\n",
            "('Barrozo Vedia', ' Joaquin Nicolas')\n",
            "('Bettinelli', ' Valentino')\n",
            "('Bracamonte Martinez', ' Salvador')\n",
            "('Caseres', ' Maria Antonia')\n",
            "('Castillo', ' Paulina Milagros')\n",
            "('Colque Rivero', ' Ariana Zoe Del Valle')\n",
            "('Correa Segovia', ' Hugo Mariano')\n",
            "('D Elia', ' Alvaro Tadeo')\n",
            "('Diaz', ' Dulce Maitena')\n",
            "('FIGUEROA', ' SANTINO JOSUE')\n",
            "('Flores', ' Victoria Agustina')\n",
            "('Flores Cardozo', ' Agustina Tiara')\n",
            "('GUZMAN', ' ANGÉLICA MORENA')\n",
            "('Gallo', ' Octavio Ismael')\n",
            "('Galvan', ' Lourdes Yamila')\n",
            "('Geronimo Soriano', ' Lizzie Amaya')\n",
            "('Giangreco', ' Vitto Tomasso')\n",
            "('Grancara', ' Martina Luna')\n",
            "('Guanca', ' Sara Elizabeth')\n",
            "('Guzman', ' Jazmin Esmeralda Belen')\n",
            "('Jaime', ' Anita Maria Belen')\n",
            "('Lacour Polo', ' Nazarena')\n",
            "('Lascano Guanca', ' Marcelo Fabricio')\n",
            "('Lezcano', ' Celia Morena')\n",
            "('Lopez', ' Victoria Constanza')\n",
            "('Mamani Garrido', ' Rosario Agostina')\n",
            "('Mamani Kynast', ' Nicolas Mauricio')\n",
            "('Marinaro', ' Martin Ezequiel')\n",
            "('Martinez', ' Tomas Andres')\n",
            "('Merluzzi Dagum', ' Ignacio')\n",
            "('Messina', ' Martina')\n",
            "('PORTELLA VALDIVIA', ' PEDRO FRANCISCO')\n",
            "('RASUK', ' KARIM')\n",
            "('Retamal Cisneros', ' Zacarias Josue')\n",
            "('Rios', ' Lucia Magali')\n",
            "('Rosales', ' Francisco Gabriel')\n",
            "('Salem Barba', ' Mahia')\n",
            "('Sanchez Flores', ' Matías Agustín')\n",
            "('Scarano', ' Renato Marcelo')\n",
            "('Sierra', ' Lucas Mauricio')\n",
            "('Soto Camara', ' Agustin Ignacio')\n",
            "('Tapia', ' Martin Gabriel')\n",
            "('Soto', 'Soto Cámara, Agustín Ignacio')\n",
            "('Villalba', ' Irina')\n",
            "('Vilte', ' Mia Antonella Alondra')\n",
            "('Virgillito', ' Katya Milena')\n",
            "('Voltolini', ' Emanuel Tobias')\n",
            "('Zalazar', ' Santino Stefano')\n"
          ]
        }
      ]
    },
    {
      "cell_type": "markdown",
      "source": [
        "10. - Pedir al usuario un nombre y mostrar todos los estudiantes que tengan ese nombre.\n",
        "  - Hacer lo mismo con un apellido.\n"
      ],
      "metadata": {
        "id": "dY4y7OVPT1FT"
      }
    },
    {
      "cell_type": "code",
      "source": [],
      "metadata": {
        "id": "bVTVfjH4VMBM"
      },
      "execution_count": null,
      "outputs": []
    },
    {
      "cell_type": "markdown",
      "source": [
        "11. Pedir un nombre al usuario y eliminar todos los registros donde se encuentre un estudiante con el nombre ingresado.\n"
      ],
      "metadata": {
        "id": "7zdJLrqXVM30"
      }
    },
    {
      "cell_type": "code",
      "source": [
        "nombre_usuario1 = input(\"Ingrese un nombre para eliminarlo del registro: \").title()\n",
        "tupla_estudiantes_copy = tupla_estudiantes.copy()\n",
        "for i in range(len(tupla_estudiantes_copy)):\n",
        "    apellido,nombre = tupla_estudiantes_copy[i]\n",
        "    if nombre_usuario1 in tupla_estudiantes_copy[i][1]:\n",
        "        tupla_estudiantes.remove(tupla_estudiantes_copy[i])\n",
        "for estudiante in tupla_estudiantes:\n",
        "    print(estudiante)"
      ],
      "metadata": {
        "id": "3_rnimG_VQr6",
        "colab": {
          "base_uri": "https://localhost:8080/"
        },
        "outputId": "9b2bf335-fe9c-4aae-9257-d105158dd62e"
      },
      "execution_count": 27,
      "outputs": [
        {
          "output_type": "stream",
          "name": "stdout",
          "text": [
            "Ingrese un nombre para eliminarlo del registro: Martin\n",
            "('ABUD LASPIUR', ' LOURDES MARIEL')\n",
            "('Alurralde', ' Solange Stefania')\n",
            "('Alvarado', ' Ludmila Del Milagro')\n",
            "('Amador', ' Luana Micaela')\n",
            "('Anaquin', ' Leonardo Ezequiel')\n",
            "('Angel', ' Camila Juliana')\n",
            "('Araoz Sanchez', ' Lautaro Nahuel')\n",
            "('Arenas', ' Lucas Gabriel')\n",
            "('Argañaraz', ' Agostina Abril')\n",
            "('Barrera', ' Matias Ezequiel')\n",
            "('Barrozo Vedia', ' Joaquin Nicolas')\n",
            "('Bettinelli', ' Valentino')\n",
            "('Bracamonte Martinez', ' Salvador')\n",
            "('Caseres', ' Maria Antonia')\n",
            "('Castillo', ' Paulina Milagros')\n",
            "('Colque Rivero', ' Ariana Zoe Del Valle')\n",
            "('Correa Segovia', ' Hugo Mariano')\n",
            "('D Elia', ' Alvaro Tadeo')\n",
            "('Diaz', ' Dulce Maitena')\n",
            "('FIGUEROA', ' SANTINO JOSUE')\n",
            "('Flores', ' Victoria Agustina')\n",
            "('Flores Cardozo', ' Agustina Tiara')\n",
            "('GUZMAN', ' ANGÉLICA MORENA')\n",
            "('Gallo', ' Octavio Ismael')\n",
            "('Galvan', ' Lourdes Yamila')\n",
            "('Geronimo Soriano', ' Lizzie Amaya')\n",
            "('Giangreco', ' Vitto Tomasso')\n",
            "('Guanca', ' Sara Elizabeth')\n",
            "('Guzman', ' Jazmin Esmeralda Belen')\n",
            "('Jaime', ' Anita Maria Belen')\n",
            "('Lacour Polo', ' Nazarena')\n",
            "('Lascano Guanca', ' Marcelo Fabricio')\n",
            "('Lezcano', ' Celia Morena')\n",
            "('Lopez', ' Victoria Constanza')\n",
            "('Mamani Garrido', ' Rosario Agostina')\n",
            "('Mamani Kynast', ' Nicolas Mauricio')\n",
            "('Martinez', ' Tomas Andres')\n",
            "('Merluzzi Dagum', ' Ignacio')\n",
            "('PORTELLA VALDIVIA', ' PEDRO FRANCISCO')\n",
            "('RASUK', ' KARIM')\n",
            "('Retamal Cisneros', ' Zacarias Josue')\n",
            "('Rios', ' Lucia Magali')\n",
            "('Rosales', ' Francisco Gabriel')\n",
            "('Salem Barba', ' Mahia')\n",
            "('Sanchez Flores', ' Matías Agustín')\n",
            "('Scarano', ' Renato Marcelo')\n",
            "('Sierra', ' Lucas Mauricio')\n",
            "('Soto Camara', ' Agustin Ignacio')\n",
            "('Soto', 'Soto Cámara, Agustín Ignacio')\n",
            "('Villalba', ' Irina')\n",
            "('Vilte', ' Mia Antonella Alondra')\n",
            "('Virgillito', ' Katya Milena')\n",
            "('Voltolini', ' Emanuel Tobias')\n",
            "('Zalazar', ' Santino Stefano')\n"
          ]
        }
      ]
    },
    {
      "cell_type": "markdown",
      "source": [
        "12. Pedir dos apellidos al usuario, y reemplazar el primer apellido por el segundo en todos los registros donde se encuentre."
      ],
      "metadata": {
        "id": "DGU_hs0BVRfa"
      }
    },
    {
      "cell_type": "code",
      "source": [
        "apellido_1 = input(\"Por favor, ingrese el apellido que quiere reemplazar: \").capitalize()\n",
        "apellido_2 = input(\"Por favor, ingrese el apellido por el cual desea cambiar el primero: \").capitalize()\n",
        "for i in range(len(tupla_estudiantes)):\n",
        "    apellido,nombre = tupla_estudiantes[i]\n",
        "    if tupla_estudiantes[i][0] == apellido_1:\n",
        "        tupla_estudiantes[i] = (apellido_2,nombre)\n",
        "for estudiante in tupla_estudiantes:\n",
        "    print(estudiante)"
      ],
      "metadata": {
        "id": "ghxBxrzTV6aL",
        "colab": {
          "base_uri": "https://localhost:8080/"
        },
        "outputId": "438d4b6b-3ef6-4404-b78d-50c6493a7889"
      },
      "execution_count": 29,
      "outputs": [
        {
          "output_type": "stream",
          "name": "stdout",
          "text": [
            "Por favor, ingrese el apellido que quiere reemplazar: Sanchez\n",
            "Por favor, ingrese el apellido por el cual desea cambiar el primero: Lopez\n",
            "('ABUD LASPIUR', ' LOURDES MARIEL')\n",
            "('Alurralde', ' Solange Stefania')\n",
            "('Alvarado', ' Ludmila Del Milagro')\n",
            "('Amador', ' Luana Micaela')\n",
            "('Anaquin', ' Leonardo Ezequiel')\n",
            "('Angel', ' Camila Juliana')\n",
            "('Araoz Sanchez', ' Lautaro Nahuel')\n",
            "('Arenas', ' Lucas Gabriel')\n",
            "('Argañaraz', ' Agostina Abril')\n",
            "('Barrera', ' Matias Ezequiel')\n",
            "('Barrozo Vedia', ' Joaquin Nicolas')\n",
            "('Bettinelli', ' Valentino')\n",
            "('Bracamonte Martinez', ' Salvador')\n",
            "('Caseres', ' Maria Antonia')\n",
            "('Castillo', ' Paulina Milagros')\n",
            "('Colque Rivero', ' Ariana Zoe Del Valle')\n",
            "('Correa Segovia', ' Hugo Mariano')\n",
            "('D Elia', ' Alvaro Tadeo')\n",
            "('Diaz', ' Dulce Maitena')\n",
            "('FIGUEROA', ' SANTINO JOSUE')\n",
            "('Flores', ' Victoria Agustina')\n",
            "('Flores Cardozo', ' Agustina Tiara')\n",
            "('GUZMAN', ' ANGÉLICA MORENA')\n",
            "('Gallo', ' Octavio Ismael')\n",
            "('Galvan', ' Lourdes Yamila')\n",
            "('Geronimo Soriano', ' Lizzie Amaya')\n",
            "('Giangreco', ' Vitto Tomasso')\n",
            "('Guanca', ' Sara Elizabeth')\n",
            "('Guzman', ' Jazmin Esmeralda Belen')\n",
            "('Jaime', ' Anita Maria Belen')\n",
            "('Lacour Polo', ' Nazarena')\n",
            "('Lascano Guanca', ' Marcelo Fabricio')\n",
            "('Lezcano', ' Celia Morena')\n",
            "('Lopez', ' Victoria Constanza')\n",
            "('Mamani Garrido', ' Rosario Agostina')\n",
            "('Mamani Kynast', ' Nicolas Mauricio')\n",
            "('Martinez', ' Tomas Andres')\n",
            "('Merluzzi Dagum', ' Ignacio')\n",
            "('PORTELLA VALDIVIA', ' PEDRO FRANCISCO')\n",
            "('RASUK', ' KARIM')\n",
            "('Retamal Cisneros', ' Zacarias Josue')\n",
            "('Rios', ' Lucia Magali')\n",
            "('Rosales', ' Francisco Gabriel')\n",
            "('Salem Barba', ' Mahia')\n",
            "('Sanchez Flores', ' Matías Agustín')\n",
            "('Scarano', ' Renato Marcelo')\n",
            "('Sierra', ' Lucas Mauricio')\n",
            "('Soto Camara', ' Agustin Ignacio')\n",
            "('Soto', 'Soto Cámara, Agustín Ignacio')\n",
            "('Villalba', ' Irina')\n",
            "('Vilte', ' Mia Antonella Alondra')\n",
            "('Virgillito', ' Katya Milena')\n",
            "('Voltolini', ' Emanuel Tobias')\n",
            "('Zalazar', ' Santino Stefano')\n"
          ]
        }
      ]
    }
  ]
}